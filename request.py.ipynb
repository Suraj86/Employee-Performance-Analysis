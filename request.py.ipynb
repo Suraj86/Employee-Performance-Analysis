{
 "cells": [
  {
   "cell_type": "code",
   "execution_count": null,
   "metadata": {},
   "outputs": [],
   "source": [
    "import requests\n",
    "\n",
    "url = 'http://localhost:5000/predict_api'\n",
    "r = requests.post(url, json={'EmpLastSalaryHikePercent':13,'EmpEnvironmentSatisfaction':2,\n",
    "                            'YearsSinceLastPromotion':1,'EmpDepartment':1,\n",
    "                            'ExperienceYearsInCurrentRole':4,\n",
    "                            'EmpWorkLifeBalance':4,'YearsWithCurrManager':5,\n",
    "                             'EmpJobRole':1,'ExperienceYearsAtThisCompany':6})\n",
    "\n",
    "print(r.json())"
   ]
  },
  {
   "cell_type": "code",
   "execution_count": null,
   "metadata": {},
   "outputs": [],
   "source": []
  }
 ],
 "metadata": {
  "kernelspec": {
   "display_name": "Python 3",
   "language": "python",
   "name": "python3"
  },
  "language_info": {
   "codemirror_mode": {
    "name": "ipython",
    "version": 3
   },
   "file_extension": ".py",
   "mimetype": "text/x-python",
   "name": "python",
   "nbconvert_exporter": "python",
   "pygments_lexer": "ipython3",
   "version": "3.7.3"
  }
 },
 "nbformat": 4,
 "nbformat_minor": 2
}
